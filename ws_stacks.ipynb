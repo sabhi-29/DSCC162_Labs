{
  "cells": [
    {
      "cell_type": "markdown",
      "metadata": {
        "id": "view-in-github",
        "colab_type": "text"
      },
      "source": [
        "<a href=\"https://colab.research.google.com/github/sabhi-29/DSCC162_Labs/blob/main/ws_stacks.ipynb\" target=\"_parent\"><img src=\"https://colab.research.google.com/assets/colab-badge.svg\" alt=\"Open In Colab\"/></a>"
      ]
    },
    {
      "cell_type": "markdown",
      "metadata": {
        "id": "HBjx33QlXUal"
      },
      "source": [
        "# DSCC 162 Stack Workshop"
      ]
    },
    {
      "cell_type": "markdown",
      "metadata": {
        "id": "-NT5UOEaXUap"
      },
      "source": [
        "In this workshop, you will add some new methods to the stack class. Later you will use some of these methods for your lab assignment which is due in 1 week."
      ]
    },
    {
      "cell_type": "markdown",
      "metadata": {
        "id": "Heb9mW-nXUaq"
      },
      "source": [
        "# Stack class"
      ]
    },
    {
      "cell_type": "code",
      "execution_count": 64,
      "metadata": {
        "id": "37HM6Ss6XUaq"
      },
      "outputs": [],
      "source": [
        "class Stack:\n",
        "    def __init__(self):\n",
        "         self.items = []\n",
        "\n",
        "    def is_empty(self):\n",
        "         return self.items == []\n",
        "\n",
        "    def push(self, item):\n",
        "        self.items.append(item)\n",
        "\n",
        "    def pop(self):\n",
        "         return self.items.pop()\n",
        "\n",
        "    def peek(self):\n",
        "         return self.items[-1]\n",
        "\n",
        "    def size(self):\n",
        "         return len(self.items)\n",
        "\n",
        "    # The following will be implemented in the workshop\n",
        "    def __len__(self):\n",
        "        return len(self.items)\n",
        "\n",
        "    def __bool__(self):\n",
        "      return (len(self.items) != 0)\n",
        "\n",
        "\n",
        "    def __repr__ (self):\n",
        "      if len(self.items) == 0:\n",
        "        return 'Empty Stack'\n",
        "      else:\n",
        "        return f'Stack: {self.items}, element at index 0 at the base of the stack, element at the index {len(self.items)-1} as the top element'\n",
        "\n",
        "    def __str__(self):\n",
        "        return f'{self.items}'\n",
        "\n",
        "    def __contains__(self, item):\n",
        "      return item in self.items"
      ]
    },
    {
      "cell_type": "markdown",
      "metadata": {
        "id": "eaUt4YRfXUas"
      },
      "source": [
        "1. Modify the infix-to-postfix algorithm so that it can handle errors.\n",
        "2. Modify the postfix evaluation algorithm so that it can handle errors.\n",
        "3. Implement a direct infix evaluator that combines the functionality of infix-to-postfix conversion and the postfix evaluation algorithm. Your evaluator should process infix tokens from left to right and use two stacks, one for operators and one for operands, to perform the evaluation.\n",
        "4. Turn your direct infix evaluator from the previous problem into a calculator.\n",
        "\n"
      ]
    },
    {
      "cell_type": "markdown",
      "metadata": {
        "id": "X0afvIuRXUat"
      },
      "source": [
        "## Infix-to-postfix"
      ]
    },
    {
      "cell_type": "code",
      "execution_count": 66,
      "metadata": {
        "colab": {
          "base_uri": "https://localhost:8080/"
        },
        "id": "q1rpC0QBXUat",
        "outputId": "8afe2669-7051-4319-f831-f73a9ab4ce8c"
      },
      "outputs": [
        {
          "output_type": "stream",
          "name": "stdout",
          "text": [
            "A B * C D * +\n",
            "A B + C * D E - F G + * -\n",
            "Enter valid infix sequences, only use number, alphabets, round paranthesis and operators: + , -, * and / \n",
            "Parentheis are not balanced in the infix expression\n",
            "Enter valid infix sequences, only use number, alphabets, round paranthesis and operators: + , -, * and / \n",
            "a B * C D * +\n"
          ]
        }
      ],
      "source": [
        "# We modified the characters that token can assume, now it can assume all characters whether small case or capital letters\n",
        "\n",
        "# Also if user enters any special characters such as #,$ or any other non alphabetical character the function will throw an error\n",
        "# and tell user which characters are allowed in the infix expression\n",
        "\n",
        "def infixToPostfix(infixexpr):\n",
        "    prec = {}\n",
        "    prec[\"*\"] = 3\n",
        "    prec[\"/\"] = 3\n",
        "    prec[\"+\"] = 2\n",
        "    prec[\"-\"] = 2\n",
        "    prec[\"(\"] = 1\n",
        "    opStack = Stack()\n",
        "    postfixList = []\n",
        "    tokenList = infixexpr.split()\n",
        "\n",
        "    for token in tokenList:\n",
        "        if token in 'abcdefghijklmnopqrstuvwxyzABCDEFGHIJKLMNOPQRSTUVWXYZ' or token in \"0123456789\":\n",
        "            postfixList.append(token)\n",
        "        elif token == '(':\n",
        "            opStack.push(token)\n",
        "        elif token == ')':\n",
        "            topToken = opStack.pop()\n",
        "            while topToken != '(':\n",
        "                postfixList.append(topToken)\n",
        "                topToken = opStack.pop()\n",
        "        elif token in '*/+-':\n",
        "            while (not opStack.is_empty()) and \\\n",
        "              (prec[opStack.peek()] >= prec[token]):\n",
        "                  postfixList.append(opStack.pop())\n",
        "            opStack.push(token)\n",
        "        else:\n",
        "          return 'Enter valid infix sequences, only use number, alphabets, round paranthesis and operators: + , -, * and / '\n",
        "\n",
        "    while not opStack.is_empty():\n",
        "        postfixList.append(opStack.pop())\n",
        "\n",
        "    # Checking for unbalanced paranthesis\n",
        "    if postfixList.count('(') > 0 or postfixList.count(')') > 0:\n",
        "      return 'Parentheis are not balanced in the infix expression'\n",
        "\n",
        "    return \" \".join(postfixList)\n",
        "\n",
        "\n",
        "\n",
        "print(infixToPostfix(\"A * B + C * D\"))\n",
        "print(infixToPostfix(\"( A + B ) * C - ( D - E ) * ( F + G )\"))\n",
        "\n",
        "print(infixToPostfix(\"&\"))\n",
        "print(infixToPostfix(\"( A + B  * C - ( D - E ) * ( F + G )\"))\n",
        "print(infixToPostfix(\"A&B\"))\n",
        "print(infixToPostfix(\"a * B + C * D\"))"
      ]
    },
    {
      "cell_type": "markdown",
      "metadata": {
        "id": "BAnK4lAXXUau"
      },
      "source": [
        "## Postifx evaluator"
      ]
    },
    {
      "cell_type": "code",
      "execution_count": 77,
      "metadata": {
        "colab": {
          "base_uri": "https://localhost:8080/"
        },
        "id": "T9BmIK9bXUau",
        "outputId": "83c37c6f-90d8-41e4-bfac-92774dbc622c"
      },
      "outputs": [
        {
          "output_type": "stream",
          "name": "stdout",
          "text": [
            "42\n",
            "1\n"
          ]
        }
      ],
      "source": [
        "# Here we have modified the code such that the user can only give single digit numbers and operators: +,-,*,/ in the input and nothing else\n",
        "\n",
        "def postfixEval(tokens):\n",
        "  ans_stack = []\n",
        "  tokens = list(tokens.split())\n",
        "  for token in tokens:\n",
        "    if token not in '+-*/':\n",
        "      ans_stack.append(int(token))\n",
        "    else:\n",
        "      # Dealing with case of addition\n",
        "      if token == '+':\n",
        "        ele_1 = ans_stack.pop()\n",
        "        ele_2 = ans_stack.pop()\n",
        "        ans_stack.append(ele_1 + ele_2)\n",
        "        continue\n",
        "\n",
        "      # Dealing with case of subtraction\n",
        "      if token == '-':\n",
        "        ele_1 = ans_stack.pop()\n",
        "        ele_2 = ans_stack.pop()\n",
        "        ans_stack.append(ele_2 - ele_1)\n",
        "        continue\n",
        "\n",
        "      # Dealing with case of multiplication\n",
        "      if token == '*':\n",
        "        ele_1 = ans_stack.pop()\n",
        "        ele_2 = ans_stack.pop()\n",
        "        ans_stack.append(ele_1 * ele_2)\n",
        "        continue\n",
        "\n",
        "        # Dealing with case of division\n",
        "      if token == '/':\n",
        "        ele_1 = ans_stack.pop()\n",
        "        ele_2 = ans_stack.pop()\n",
        "        ans_stack.append(int(ele_2 / ele_1))\n",
        "        continue\n",
        "\n",
        "  return ans_stack[0]\n",
        "\n",
        "\n",
        "# def postfixEval(postfixExpr):\n",
        "\n",
        "\n",
        "#   operandStack = Stack()\n",
        "#   tokenList = postfixExpr.split()\n",
        "\n",
        "#   for token in tokenList:\n",
        "#     # print(token)\n",
        "#     if token in \"0123456789\":\n",
        "#       operandStack.push(int(token))\n",
        "#     elif token in '+-*/':\n",
        "#       operand2 = operandStack.pop()\n",
        "#       operand1 = operandStack.pop()\n",
        "\n",
        "#       result = doMath(token,operand1,operand2)\n",
        "#       operandStack.push(result)\n",
        "#     else:\n",
        "#       return 'Enter only numbers and operations: +,-,*,/'\n",
        "\n",
        "\n",
        "#   return operandStack.pop()\n",
        "\n",
        "# def doMath(op, op1, op2):\n",
        "#     if op == \"*\":\n",
        "#       return op1 * op2\n",
        "#     elif op == \"/\":\n",
        "#       return op1 / op2\n",
        "#     elif op == \"+\":\n",
        "#       return op1 + op2\n",
        "#     else:\n",
        "#       return op1 - op2\n",
        "\n",
        "print(postfixEval('2 3 * 9 4 * +'))\n",
        "\n",
        "print(postfixEval('7 8 + 6 2 + /'))\n",
        "\n"
      ]
    },
    {
      "cell_type": "code",
      "source": [
        "# Now doing point - 3: Implement a direct infix evaluator that combines the functionality of infix-to-postfix conversion\n",
        "# and the postfix evaluation algorithm. Your evaluator should process infix tokens from left to right and use two stacks,\n",
        "# one for operators and one for operands, to perform the evaluation.\n",
        "\n",
        "# We can only compute simple expressions using this function, the numbers should only be single digit integers\n",
        "# Again defining the doMath function for clearity\n",
        "\n",
        "def doMath(op, op1, op2):\n",
        "    if op == \"*\":\n",
        "        return op1 * op2\n",
        "    elif op == \"/\":\n",
        "        return op1 / op2\n",
        "    elif op == \"+\":\n",
        "        return op1 + op2\n",
        "    else:\n",
        "        return op1 - op2\n",
        "\n",
        "\n",
        "def infixToPostfix(infixexpr):\n",
        "  prec = {}\n",
        "  prec[\"*\"] = 3\n",
        "  prec[\"/\"] = 3\n",
        "  prec[\"+\"] = 2\n",
        "  prec[\"-\"] = 2\n",
        "  prec[\"(\"] = 1\n",
        "  opStack = Stack()\n",
        "  postfixList = []\n",
        "  tokenList = infixexpr.split()\n",
        "\n",
        "  for token in tokenList:\n",
        "    if token in 'abcdefghijklmnopqrstuvwxyzABCDEFGHIJKLMNOPQRSTUVWXYZ' or token in \"0123456789\":\n",
        "      postfixList.append(token)\n",
        "    elif token == '(':\n",
        "      opStack.push(token)\n",
        "    elif token == ')':\n",
        "      topToken = opStack.pop()\n",
        "      while topToken != '(':\n",
        "          postfixList.append(topToken)\n",
        "          topToken = opStack.pop()\n",
        "    elif token in '*/+-':\n",
        "      while (not opStack.is_empty()) and \\\n",
        "        (prec[opStack.peek()] >= prec[token]):\n",
        "          postfixList.append(opStack.pop())\n",
        "      opStack.push(token)\n",
        "    else:\n",
        "      return 'Enter valid infix sequences, only use number, alphabets, round paranthesis and operators: + , -, * and / '\n",
        "\n",
        "  while not opStack.is_empty():\n",
        "    postfixList.append(opStack.pop())\n",
        "\n",
        "  # Checking for unbalanced paranthesis\n",
        "  if postfixList.count('(') > 0 or postfixList.count(')') > 0:\n",
        "    return 'Parentheis are not balanced in the infix expression'\n",
        "\n",
        "  return \" \".join(postfixList)\n",
        "\n",
        "\n",
        "\n",
        "# def infix_eval(infixexpr):\n",
        "#   post_fix_expr = infixToPostfix(infixexpr)\n",
        "#   return postfixEval(post_fix_expr)\n",
        "\n",
        "\n",
        "# Now finally testing the code with test case\n",
        "\n",
        "print(int(infix_eval(\"2 * 5 + 5\")) == 15)\n"
      ],
      "metadata": {
        "colab": {
          "base_uri": "https://localhost:8080/"
        },
        "id": "uVH7kTinmKUN",
        "outputId": "b13f3492-cef1-441e-cd11-6aa6a570d06f"
      },
      "execution_count": 62,
      "outputs": [
        {
          "output_type": "stream",
          "name": "stdout",
          "text": [
            "True\n"
          ]
        }
      ]
    },
    {
      "cell_type": "code",
      "source": [
        "# For part 4 we take input from user, convert it necessary format and give out the result\n",
        "# Only simple expressions with single digit integers are allowed\n",
        "\n",
        "input_str = input()\n",
        "\n",
        "print(infix_eval(input_str))\n",
        "\n",
        "# Considering the example we did above\n",
        "# input \"2 * 5 + 5\" should give 15 which it does"
      ],
      "metadata": {
        "colab": {
          "base_uri": "https://localhost:8080/"
        },
        "id": "2QbIHtTfuzMf",
        "outputId": "54b98be3-3898-4845-ea10-2aa1897169a9"
      },
      "execution_count": 63,
      "outputs": [
        {
          "output_type": "stream",
          "name": "stdout",
          "text": [
            "2 * 5 + 5\n",
            "15\n"
          ]
        }
      ]
    }
  ],
  "metadata": {
    "kernelspec": {
      "display_name": "Python 3",
      "language": "python",
      "name": "python3"
    },
    "language_info": {
      "codemirror_mode": {
        "name": "ipython",
        "version": 3
      },
      "file_extension": ".py",
      "mimetype": "text/x-python",
      "name": "python",
      "nbconvert_exporter": "python",
      "pygments_lexer": "ipython3",
      "version": "3.7.3"
    },
    "colab": {
      "provenance": [],
      "include_colab_link": true
    }
  },
  "nbformat": 4,
  "nbformat_minor": 0
}