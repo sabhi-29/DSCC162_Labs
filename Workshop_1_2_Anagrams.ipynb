{
  "nbformat": 4,
  "nbformat_minor": 0,
  "metadata": {
    "colab": {
      "provenance": [],
      "authorship_tag": "ABX9TyM1Z5Vv57NcZnNl0nDB3mQZ",
      "include_colab_link": true
    },
    "kernelspec": {
      "name": "python3",
      "display_name": "Python 3"
    },
    "language_info": {
      "name": "python"
    }
  },
  "cells": [
    {
      "cell_type": "markdown",
      "metadata": {
        "id": "view-in-github",
        "colab_type": "text"
      },
      "source": [
        "<a href=\"https://colab.research.google.com/github/sabhi-29/DSCC162_Labs/blob/main/Workshop_1_2_Anagrams.ipynb\" target=\"_parent\"><img src=\"https://colab.research.google.com/assets/colab-badge.svg\" alt=\"Open In Colab\"/></a>"
      ]
    },
    {
      "cell_type": "markdown",
      "source": [
        "**In this workshop we'll be writing a code that checks whether two strings are anagrams or not.**\n",
        "\n"
      ],
      "metadata": {
        "id": "N5x86EL1mfK9"
      }
    },
    {
      "cell_type": "markdown",
      "source": [
        "**Group members**- Dennis, Bhargav, Medhini, Eugene, HanChang, Quingru"
      ],
      "metadata": {
        "id": "8J8y9ZsanDCe"
      }
    },
    {
      "cell_type": "markdown",
      "source": [
        "Two strings will be anagrams of each other if-\n",
        "\n",
        "\n",
        "1.   The length of both the strings are equal to each other\n",
        "2.   The same set of unique characters occur in each of the strings\n",
        "3.   The frequency of occurance of each unique character is equal in both the strings\n",
        "\n",
        "\n",
        "The following points discuss the robustness of our program -\n",
        "*   This program is written keeping in mind that the input provided by the user will be a string and not any other data type like an integer, float, etc. Although the code can be modified to cater to those needs by typecasting the input into a string but that has purposefully not been done here.\n",
        "*   Also, we'll be converting the inputed strings to lower case for the sake of simplicity and declare two strings anagrams if all the above mentioned conditions are satisfied.\n",
        "\n",
        "*   Hence two strings will be anagrams if they satisfy the above conditions even if they don't necessarily have the same set of capital and small letters\n",
        "\n",
        "\n",
        "\n",
        "\n"
      ],
      "metadata": {
        "id": "pXUqF12knUI5"
      }
    },
    {
      "cell_type": "code",
      "execution_count": 6,
      "metadata": {
        "id": "bP4ooyQ6mWZd"
      },
      "outputs": [],
      "source": [
        "# Now we're going to check all the coditions that we have mentioned for the two strings to be anagrams\n",
        "# We are going to write a function that does that\n",
        "\n",
        "def anagrams(str_1, str_2):\n",
        "  # Converting both the strings to lower case\n",
        "  str_1, str_2 = str_1.lower(), str_2.lower()\n",
        "\n",
        "  # Checking condition 1\n",
        "  if len(str_1) != len(str_2):\n",
        "    return False\n",
        "\n",
        "  # Checking condition 2\n",
        "  if set(str_1) != set(str_2):\n",
        "    return False\n",
        "\n",
        "  # Now finally checking condition 3 using a dictionary that has the keys as the unique characters in the strings\n",
        "  # and the value corresponsing to each key is the frequency of occurance of that character in the string\n",
        "\n",
        "  # First doing it for str_1\n",
        "  dict_str_1 = {x: str_1.count(x) for x in set(str_1)}\n",
        "\n",
        "  # Now for str_2\n",
        "  dict_str_2 = {x: str_2.count(x) for x in set(str_2)}\n",
        "\n",
        "  # Now we'll be checking if both the dictionaries are equal to each other or not, we'll return False if they are not equivalent\n",
        "\n",
        "  if dict_str_1 != dict_str_2:\n",
        "    return False\n",
        "\n",
        "  # If our code does not enter any of the conditional statements then it means that both the strings are anagrams\n",
        "  # So, we'll be returning True now\n",
        "\n",
        "  return True\n",
        ""
      ]
    },
    {
      "cell_type": "code",
      "source": [
        "# First we are going to input two strings from the user\n",
        "\n",
        "string_1 = input(\"Enter string-1: \")\n",
        "string_2 = input(\"Enter string-2: \")\n",
        "\n",
        "# Now we'll check if the two strings are anagrams, if they are then we'll print \"Are Anagrams\", else print \"Not Anagrams\"\n",
        "\n",
        "if anagrams(string_1, string_2):\n",
        "  print(\"Are Anagrams\")\n",
        "else:\n",
        "  print(\"Not Anagrams\")\n",
        "\n"
      ],
      "metadata": {
        "colab": {
          "base_uri": "https://localhost:8080/"
        },
        "id": "ba2HTsIOnTyt",
        "outputId": "0b0df02c-ad0f-4a48-f3de-0d661e06e7fd"
      },
      "execution_count": 7,
      "outputs": [
        {
          "output_type": "stream",
          "name": "stdout",
          "text": [
            "Enter string-1: absfgth\n",
            "Enter string-2: vrecsd\n",
            "Not Anagrams\n"
          ]
        }
      ]
    },
    {
      "cell_type": "markdown",
      "source": [
        "Time complexity of our program -\n",
        "\n",
        "\n",
        "*   The input string functions are of constant time ***O(1)***\n",
        "*   The ***anagrams()*** function will of ***O(n + m)*** where **n** is the length of string_1 and ***m*** is the length of string_2. This is because when we are creating the character and frequency dictionaries for the respective strings we have to traverse through the entire string one by one to make the dictionary for that string.\n",
        "*   Since ***set()*** and ***len()*** function is an ***O(1)*** operation in python, the time complexity of our program is dictated by the string traversal during the dictionary formation\n",
        "\n",
        "Hence the overall time complexity of our program can be given as ***O(n+m)*** or simply ***O(n)*** (Where n will represent the average of the lengths of string_1 and string_2)\n",
        "\n",
        "\n"
      ],
      "metadata": {
        "id": "qlHqRZTEtmyH"
      }
    }
  ]
}