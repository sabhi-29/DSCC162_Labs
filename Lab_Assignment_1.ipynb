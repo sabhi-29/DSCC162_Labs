{
  "cells": [
    {
      "cell_type": "markdown",
      "metadata": {
        "id": "view-in-github",
        "colab_type": "text"
      },
      "source": [
        "<a href=\"https://colab.research.google.com/github/sabhi-29/DSCC162_Labs/blob/main/Lab_Assignment_1.ipynb\" target=\"_parent\"><img src=\"https://colab.research.google.com/assets/colab-badge.svg\" alt=\"Open In Colab\"/></a>"
      ]
    },
    {
      "cell_type": "markdown",
      "metadata": {
        "button": false,
        "deletable": true,
        "new_sheet": false,
        "run_control": {
          "read_only": false
        },
        "id": "SzYJwA_kuXm6"
      },
      "source": [
        "# Lab 1: Python Review"
      ]
    },
    {
      "cell_type": "markdown",
      "metadata": {
        "button": false,
        "deletable": true,
        "new_sheet": false,
        "run_control": {
          "read_only": false
        },
        "id": "Js-xGr0OuXm8"
      },
      "source": [
        "## Fraction Class\n",
        "\n",
        "The textbook provides this minimally function `Fraction` class. You will complete several exercises to improve on the design of this custom data type.\n",
        "\n",
        "The function `gcd`, defined below, is necessary for `Fraction` to work."
      ]
    },
    {
      "cell_type": "code",
      "execution_count": null,
      "metadata": {
        "button": false,
        "collapsed": true,
        "deletable": true,
        "new_sheet": false,
        "run_control": {
          "read_only": false
        },
        "id": "nySdqoNxuXm9"
      },
      "outputs": [],
      "source": [
        "def gcd(m, n):\n",
        "    \"\"\"Greatest Common Divisor\n",
        "    M&R listing 1.6: Greatest Common Divisor Function\n",
        "    \"\"\"\n",
        "    while m % n != 0:\n",
        "        oldm = m\n",
        "        oldn = n\n",
        "\n",
        "        m = oldn\n",
        "        n = oldm % oldn\n",
        "    return n"
      ]
    },
    {
      "cell_type": "markdown",
      "metadata": {
        "button": false,
        "deletable": true,
        "new_sheet": false,
        "run_control": {
          "read_only": false
        },
        "id": "yiNFupIBuXm-"
      },
      "source": [
        "## Your Exercises\n",
        "\n",
        " 1. Implement these simple 'getter' methods for class `Fraction`:\n",
        "\n",
        "    * `get_num` to return the numerator\n",
        "    * `get_den` to return the denominator.\n",
        "\n",
        " 1. In many ways it would be better if all fractions were maintained in lowest\n",
        "    terms right from the start. Modify the initializer for the `Fraction`\n",
        "    class so that the GCD alogorithm is used to reduce fractions immediately.\n",
        "    Notice that this means the `__add__` method no longer needs to reduce. Make the\n",
        "    necessary modifications.\n",
        "    \n",
        " 1. Implement the remaining relational operators to allow you to compare one `Fraction` object, with another.\n",
        "\n",
        "     * `__gt__`\n",
        "     * `__ge__`\n",
        "     * `__lt__`\n",
        "     * `__le__`\n",
        "     * `__ne__`\n",
        "     \n",
        " 1. In the definition of fractions we assumed that negative fractions have a\n",
        "    negative numerator and a positive denominator. Using a negative denominator\n",
        "    would cause some of the relational operators to give incorrect results. In\n",
        "    general, this is an unnecessary constraint. Modify the constructor to allow\n",
        "    the user to pass a negative denominator so that all of the operators continue\n",
        "    to work properly."
      ]
    },
    {
      "cell_type": "markdown",
      "metadata": {
        "button": false,
        "deletable": true,
        "new_sheet": false,
        "run_control": {
          "read_only": false
        },
        "id": "XBd_pHKVuXm-"
      },
      "source": [
        "## <font color=green>Your Solution</font>\n",
        "\n",
        "Implement your solution to the exercises by modifying the `Fraction` class, below, and add your code to it. To make it clear, please use docstrings and comments where appropriate to state which parts of the `Fraction` class are being modified, and for *which* exercise."
      ]
    },
    {
      "cell_type": "code",
      "execution_count": null,
      "metadata": {
        "button": false,
        "collapsed": true,
        "deletable": true,
        "new_sheet": false,
        "run_control": {
          "read_only": false
        },
        "id": "znlq9kdQuXm-"
      },
      "outputs": [],
      "source": [
        "class Fraction:\n",
        "    \"\"\"A class to represent fractions\n",
        "\n",
        "    This code needs to be improved according to the exercises!\n",
        "    \"\"\"\n",
        "    def __init__(self, top, bottom):\n",
        "\n",
        "        # This implementation has been done keeping in mind that the user does not input zero as a denominator\n",
        "        # First we'll be computing the gcd of the numerator and denominator, since we can have neagtive values as well we'll be taking the\n",
        "        # absolute values of both while calculating the gcd\n",
        "\n",
        "        # Now since POINT-4 mentions that while implementing fractions either or both the numerator and denominator can be negative when user\n",
        "        # inputs the fraction, we'll be creating a special case, where, the fraction having a negative denominator and positive numerator\n",
        "        # will be changed to a fraction having a negative numerator and a positive denominator so that all the operators can be used normally as\n",
        "        # intended\n",
        "\n",
        "        hcf = gcd(abs(top), abs(bottom))\n",
        "        if top > 0 and bottom < 0:                     # Special case of negative denominator, have to shift the minus sign to the numerator\n",
        "          self.num = -1*top//hcf\n",
        "          self.den = -1*bottom//hcf\n",
        "\n",
        "        elif top < 0 and bottom > 0:                   # The case of negative numerator\n",
        "          self.num = top//hcf\n",
        "          self.den = bottom//hcf\n",
        "\n",
        "        else:                                          # The general case\n",
        "          self.num = abs(top)//hcf\n",
        "          self.den = abs(bottom)//hcf\n",
        "\n",
        "    # POINT-1: Implementing the getter functions\n",
        "    def get_num(self):                                 # Returns the numerator of the fraction\n",
        "      return self.num\n",
        "\n",
        "    def get_den(self):                                 # Returns the denominator of the fraction\n",
        "      return self.den\n",
        "\n",
        "    def __str__(self):\n",
        "        return str(self.num) + \"/\" + str(self.den)\n",
        "\n",
        "    def show(self):\n",
        "        \"\"\"Display the fraction\"\"\"\n",
        "        print(self.num, \"/\", self.den)\n",
        "\n",
        "    # POINT-2: Making the changes in the __add__ function, we removed the step where we are calculating the common as our initializer\n",
        "    #          function already takes care of that now\n",
        "\n",
        "    def __add__(self, otherfraction):\n",
        "        newnum = (self.num*otherfraction.den +\n",
        "                  self.den*otherfraction.num)\n",
        "        newden = self.den * otherfraction.den\n",
        "        return Fraction(newnum, newden)\n",
        "\n",
        "    def __eq__(self, other):\n",
        "        firstnum = self.num * other.den\n",
        "        secondnum = other.num * self.den\n",
        "        return firstnum == secondnum\n",
        "\n",
        "    # POINT-3: Implementing the relational operators\n",
        "    # __gt__ function: a fraction F1 will be greater than fraction F2 if the numerator of F1 is larger than that of F2, provided that the\n",
        "    #                  denominator of both the fractions is the same\n",
        "    # We can get the same denominator by multiplying the denominator of F1 by the denominator of F2 and vice versa for F2.\n",
        "    # Once we have both the denominators the same we'll have to multiply both the numerators in the same fashion to not alther\n",
        "    # the value of the fraction.\n",
        "\n",
        "    def __gt__(self, other_fraction):                                  # Self is fraction F1 and other_fraction is fraction F2\n",
        "      common_den = self.den*other_fraction.den                         # This is the common denominator\n",
        "      num_self_mod = self.num*other_fraction.den                       # This is the modified value of numerator of F1 to keep the value of fraction F1 the same\n",
        "      num_other_fraction_mod = other_fraction.num*self.den             # This is the modified value of numerator of F2 to keep the value of fraction F2 the same\n",
        "      return num_self_mod > num_other_fraction_mod                     # This returns True if F1 is greater than F2, False otherwise\n",
        "\n",
        "\n",
        "    # __ge__ function: a fraction F1 is said to be greater than or equal to fraction F2 if the numerator of F1 is greater than\n",
        "    #                  or equal to that of F2, provided that the denominator of both the fractions is the same\n",
        "    # This function is almost identical to __gt__ function, except the equality part\n",
        "\n",
        "    def __ge__(self, other_fraction):                                  # Self is fraction F1 and other_fraction is fraction F2\n",
        "      common_den = self.den*other_fraction.den\n",
        "      num_self_mod = self.num*other_fraction.den\n",
        "      num_other_fraction_mod = other_fraction.num*self.den\n",
        "      return num_self_mod >= num_other_fraction_mod                    # This returns True if F1 is greater or equal to F2, False otherwise\n",
        "\n",
        "\n",
        "\n",
        "    # __lt__ function: a fraction F1 will be less than fraction F2 if the numerator of F1 is less than that of F2, provided that the\n",
        "    #                  denominator of both the fractions is the same\n",
        "\n",
        "    def __lt__(self, other_fraction):                                  # Self is fraction F1 and other_fraction is fraction F2\n",
        "      common_den = self.den*other_fraction.den\n",
        "      num_self_mod = self.num*other_fraction.den\n",
        "      num_other_fraction_mod = other_fraction.num*self.den\n",
        "      return num_self_mod < num_other_fraction_mod                     # This returns True if F1 is less than F2, False otherwise\n",
        "\n",
        "\n",
        "    # __le__ function: a fraction F1 is said to be less than or equal to fraction F2 if the numerator of F1 is less than\n",
        "    #                  or equal to that of F2, provided that the denominator of both the fractions is the same\n",
        "    # This function is almost identical to __lt__ function, except the equality part\n",
        "\n",
        "    def __le__(self, other_fraction):                                  # Self is fraction F1 and other_fraction is fraction F2\n",
        "      common_den = self.den*other_fraction.den\n",
        "      num_self_mod = self.num*other_fraction.den\n",
        "      num_other_fraction_mod = other_fraction.num*self.den\n",
        "      return num_self_mod <= num_other_fraction_mod                    # This returns True if F1 is less or equal to F2, False otherwise\n",
        "\n",
        "    # __ne__ function: a fraction F1 is said to be not equal to fraction F2 if the numerator of F1 is not equal to that of F2,\n",
        "    #                  or the denominator of F1 is not equal to that of F2. We can say this because or initializer function gurantees that\n",
        "    #                  the fraction will be in it's reduced form from the start itself\n",
        "\n",
        "    def __ne__(self, other_fraction):                                  # Self is fraction F1 and other_fraction is fraction F2\n",
        "      if (self.den != other_fraction.den) or (self.num != other_fraction.num):\n",
        "        return False\n",
        "      else:\n",
        "        return True\n",
        "\n"
      ]
    },
    {
      "cell_type": "markdown",
      "metadata": {
        "button": false,
        "deletable": true,
        "new_sheet": false,
        "run_control": {
          "read_only": false
        },
        "id": "ttU91m2zuXm_"
      },
      "source": [
        "## Testing\n",
        "\n",
        "For full credit, you must also test your solution so that you can prove to the grade your solution works."
      ]
    },
    {
      "cell_type": "code",
      "execution_count": null,
      "metadata": {
        "button": false,
        "collapsed": true,
        "deletable": true,
        "new_sheet": false,
        "run_control": {
          "read_only": false
        },
        "id": "nmbd3iKKuXm_"
      },
      "outputs": [],
      "source": [
        "x = Fraction(1, 2)\n",
        "y = Fraction(2, 3)\n"
      ]
    },
    {
      "cell_type": "code",
      "execution_count": null,
      "metadata": {
        "button": false,
        "collapsed": true,
        "deletable": true,
        "new_sheet": false,
        "run_control": {
          "read_only": false
        },
        "colab": {
          "base_uri": "https://localhost:8080/"
        },
        "id": "tcVKXQw2uXm_",
        "outputId": "ba180067-7311-4c55-9d9e-ecd9c93ecefd"
      },
      "outputs": [
        {
          "output_type": "stream",
          "name": "stdout",
          "text": [
            "7/6\n"
          ]
        }
      ],
      "source": [
        "print(x+y)"
      ]
    },
    {
      "cell_type": "code",
      "execution_count": null,
      "metadata": {
        "button": false,
        "collapsed": true,
        "deletable": true,
        "new_sheet": false,
        "run_control": {
          "read_only": false
        },
        "colab": {
          "base_uri": "https://localhost:8080/"
        },
        "id": "YbQNaduguXm_",
        "outputId": "6a252f98-ca73-4f8d-f48e-3a3dc0b6c797"
      },
      "outputs": [
        {
          "output_type": "stream",
          "name": "stdout",
          "text": [
            "False\n"
          ]
        }
      ],
      "source": [
        "print(x == y)"
      ]
    },
    {
      "cell_type": "markdown",
      "source": [
        "### Custom test cases"
      ],
      "metadata": {
        "id": "Cv7XXEFCFcNl"
      }
    },
    {
      "cell_type": "code",
      "source": [
        "# Using random module so that we are able to test on a lot of fractions whose numerator and denominator have been chosen randomly\n",
        "# The range we are considering is (1,800), 800 is excluded\n",
        "\n",
        "from random import randint\n",
        "F1 = Fraction(randint(-800,800), randint(1,800))\n",
        "F2 = Fraction(randint(-800,800), randint(1,800))\n",
        "print(f\"Addtion of the fractions {F1} and {F2} yeilds: {F1+F2}\")\n",
        "if F1 > F2:\n",
        "  print(f\"Fraction {F1} is greater than {F2}\")\n",
        "elif F1 < F2:\n",
        "  print(f\"Fraction {F1} is less than {F2}\")\n",
        "else:\n",
        "  print(f\"Fraction {F1} is equal to {F2}\")\n",
        "\n",
        "\n"
      ],
      "metadata": {
        "colab": {
          "base_uri": "https://localhost:8080/"
        },
        "id": "rLd6dS7_Fjv2",
        "outputId": "a78785be-cb1c-4bc7-a606-3f4af32ee16f"
      },
      "execution_count": null,
      "outputs": [
        {
          "output_type": "stream",
          "name": "stdout",
          "text": [
            "Addtion of the fractions -647/297 and 745/426 yeilds: -18119/42174\n",
            "Fraction -647/297 is less than 745/426\n"
          ]
        }
      ]
    },
    {
      "cell_type": "code",
      "source": [],
      "metadata": {
        "id": "T5qBfJGLFnh0"
      },
      "execution_count": null,
      "outputs": []
    }
  ],
  "metadata": {
    "kernelspec": {
      "display_name": "Python 3",
      "language": "python",
      "name": "python3"
    },
    "language_info": {
      "codemirror_mode": {
        "name": "ipython",
        "version": 3
      },
      "file_extension": ".py",
      "mimetype": "text/x-python",
      "name": "python",
      "nbconvert_exporter": "python",
      "pygments_lexer": "ipython3",
      "version": "3.7.7"
    },
    "colab": {
      "provenance": [],
      "include_colab_link": true
    }
  },
  "nbformat": 4,
  "nbformat_minor": 0
}