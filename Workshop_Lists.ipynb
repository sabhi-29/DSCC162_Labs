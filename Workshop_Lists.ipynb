{
  "cells": [
    {
      "cell_type": "markdown",
      "metadata": {
        "id": "view-in-github",
        "colab_type": "text"
      },
      "source": [
        "<a href=\"https://colab.research.google.com/github/sabhi-29/DSCC162_Labs/blob/main/Workshop_Lists.ipynb\" target=\"_parent\"><img src=\"https://colab.research.google.com/assets/colab-badge.svg\" alt=\"Open In Colab\"/></a>"
      ]
    },
    {
      "cell_type": "markdown",
      "source": [
        "Group members: Medhini, Bhargav, Hanchang, Eugene, Quingru, Dennis"
      ],
      "metadata": {
        "id": "nbZ7HPPupUSj"
      }
    },
    {
      "cell_type": "markdown",
      "metadata": {
        "id": "spny-6D-pSRM"
      },
      "source": [
        "# Instructions"
      ]
    },
    {
      "cell_type": "markdown",
      "metadata": {
        "id": "-tnKQD1VpSRR"
      },
      "source": [
        "**Workshop:** Implement the missing Unordered List methods shown below. Refer to this page for guidance on what the methods are supposed to do: https://docs.python.org/3/reference/datamodel.html"
      ]
    },
    {
      "cell_type": "markdown",
      "metadata": {
        "id": "rKvtB0r-pSRS"
      },
      "source": [
        "# Node"
      ]
    },
    {
      "cell_type": "code",
      "execution_count": null,
      "metadata": {
        "id": "ah6IyDY9pSRT"
      },
      "outputs": [],
      "source": [
        "class Node:\n",
        "    def __init__(self, init_data):\n",
        "        self.data = init_data\n",
        "        self.next = None\n",
        "\n",
        "    def get_data(self):\n",
        "        return self.data\n",
        "\n",
        "    def get_next(self):\n",
        "        return self.next\n",
        "\n",
        "    def set_data(self, new_data):\n",
        "        self.data = new_data\n",
        "\n",
        "    def set_next(self, new_next):\n",
        "        self.next = new_next"
      ]
    },
    {
      "cell_type": "markdown",
      "metadata": {
        "id": "SRopgVoGpSRU"
      },
      "source": [
        "# Unordered List"
      ]
    },
    {
      "cell_type": "code",
      "execution_count": null,
      "metadata": {
        "id": "VidFUVfipSRV"
      },
      "outputs": [],
      "source": [
        "class UnorderedList:\n",
        "    def __init__(self):\n",
        "      self.head = None\n",
        "\n",
        "    def add(self, item):\n",
        "      # A prepend to list operation\n",
        "      temp = Node(item)\n",
        "      temp.set_next(self.head)\n",
        "      self.head = temp\n",
        "\n",
        "    def length(self):\n",
        "      current = self.head\n",
        "      count = 0\n",
        "\n",
        "      while current != None:\n",
        "        count += 1\n",
        "        current = current.get_next()\n",
        "\n",
        "      return count\n",
        "\n",
        "    def search(self, item):\n",
        "      current = self.head\n",
        "      found = False\n",
        "\n",
        "      while current != None and not found:\n",
        "        if current.get_data() == item:\n",
        "          found = True\n",
        "        else:\n",
        "          current = current.get_next()\n",
        "\n",
        "      return found\n",
        "\n",
        "    def remove(self, item):\n",
        "      current = self.head\n",
        "      previous = None\n",
        "      found = False\n",
        "\n",
        "      while not found:\n",
        "        if current.get_data() == item:\n",
        "          found = True\n",
        "        else:\n",
        "          previous = current\n",
        "          current = current.get_next()\n",
        "\n",
        "      if previous == None:\n",
        "        self.head = current.get_next()\n",
        "      else:\n",
        "        previous.set_next(current.get_next())\n",
        "\n",
        "    # Implement the following methods:\n",
        "    def __len__(self):\n",
        "      current = self.head\n",
        "      count = 0\n",
        "\n",
        "      while current != None:\n",
        "        count += 1\n",
        "        current = current.get_next()\n",
        "\n",
        "      return count\n",
        "\n",
        "    def __bool__(self):             #Equivalent to is_empty() function, except it'll return False if the list is empty and true if it's not empty\n",
        "      if self.head == None:\n",
        "        return False\n",
        "      return True\n",
        "\n",
        "    def __repr__(self):  # Formal string representation of the list\n",
        "      ans_str = ''\n",
        "      # We'll be showing the nodes and the links in the list\n",
        "      curr_ptr = self.head\n",
        "      if curr_ptr == None:\n",
        "        return \"The list is Empty.\"\n",
        "      else:\n",
        "        ans_str += \"Unordered List : \"\n",
        "        while curr_ptr != None:\n",
        "          ans_str += f\"{curr_ptr.get_data()} ->\"\n",
        "          curr_ptr = curr_ptr.get_next()\n",
        "        ans_str += 'None'\n",
        "\n",
        "      return ans_str\n",
        "\n",
        "\n",
        "\n",
        "\n",
        "    def __str__(self):\n",
        "        # We'll just be showing the elements in the list from head to tail\n",
        "        ans_str = ''\n",
        "        curr_ptr = self.head\n",
        "        if curr_ptr == None:\n",
        "          return 'None'\n",
        "        else:\n",
        "          while curr_ptr != None:\n",
        "            ans_str += f'{curr_ptr.get_data()}, '\n",
        "            curr_ptr = curr_ptr.get_next()\n",
        "        return ans_str\n",
        "\n",
        "\n",
        "\n",
        "    def __contains__(self, item):       # Using the search function already implemented\n",
        "        return self.search(item)"
      ]
    },
    {
      "cell_type": "code",
      "source": [
        "# Testing the functions\n",
        "import random\n",
        "\n",
        "ll = UnorderedList()\n",
        "print(\"Before any elements: \", ll)\n",
        "# We'll create a list of 10 items\n",
        "items = [random.randrange(1,20) for i in range(10)]\n",
        "\n",
        "for i in range(len(items)):\n",
        "  ll.add(items[i])\n",
        "\n",
        "# Printing the list\n",
        "print(\"After: \", ll)\n",
        "\n",
        "# Printing the repr form\n",
        "print(repr(ll))\n",
        "\n",
        "# Checking the bool function\n",
        "print(bool(ll))\n",
        "\n",
        "# Checking if the remove function is working and printing the list upon removing elements\n",
        "print(f\"Before removing {items[4]} the list is:\", repr(ll) )\n",
        "ll.remove(items[4])\n",
        "print(f\"Before removing {items[4]} the list is:\", repr(ll) )\n",
        "\n",
        "print(f\"Before removing {items[0]} the list is:\", repr(ll) )\n",
        "ll.remove(items[0])\n",
        "print(f\"Before removing {items[0]} the list is:\", repr(ll) )\n",
        "\n",
        "\n",
        "# Checking if the search function is working and\n",
        "print(f\"Number {items[3]} is in the list is:\", ll.search(items[3]) )\n",
        "\n",
        "# Checking if the length function is working\n",
        "print(f\"The length of the list is:\", len(ll) )"
      ],
      "metadata": {
        "colab": {
          "base_uri": "https://localhost:8080/"
        },
        "id": "0I-ZQLCEK7AC",
        "outputId": "aab45580-2d4b-403e-de81-e8bf3bec1785"
      },
      "execution_count": 34,
      "outputs": [
        {
          "output_type": "stream",
          "name": "stdout",
          "text": [
            "Before any elements:  None\n",
            "After:  9, 14, 17, 9, 11, 7, 1, 17, 14, 2, \n",
            "Unordered List : 9 ->14 ->17 ->9 ->11 ->7 ->1 ->17 ->14 ->2 ->None\n",
            "True\n",
            "Before removing 7 the list is: Unordered List : 9 ->14 ->17 ->9 ->11 ->7 ->1 ->17 ->14 ->2 ->None\n",
            "Before removing 7 the list is: Unordered List : 9 ->14 ->17 ->9 ->11 ->1 ->17 ->14 ->2 ->None\n",
            "Before removing 2 the list is: Unordered List : 9 ->14 ->17 ->9 ->11 ->1 ->17 ->14 ->2 ->None\n",
            "Before removing 2 the list is: Unordered List : 9 ->14 ->17 ->9 ->11 ->1 ->17 ->14 ->None\n",
            "Number 1 is in the list is: True\n",
            "The length of the list is: 8\n"
          ]
        }
      ]
    },
    {
      "cell_type": "markdown",
      "metadata": {
        "id": "UNEtUihgpSRV"
      },
      "source": [
        "1. The linked list implementation given above is called a singly linked list because each node has a single reference to the next node in sequence. An alternative implementation is known as a doubly linked list. In this implementation, each node has a reference to the next node (commonly called next) as well as a reference to the preceding node (commonly called back). The head reference also contains two references, one to the first node in the linked list and one to the last. Code this implementation in Python.\n",
        "\n",
        "2. Create an implementation of a queue that would have an average performance of O(1) for enqueue and dequeue operations."
      ]
    },
    {
      "cell_type": "code",
      "source": [
        "# Answer for Point-1\n",
        "\n",
        "# We'll be making node_2 for doubly linked list containing two pointers- for front and back and corresponging getter, setter functions\n",
        "class Node_2:\n",
        "    def __init__(self, init_data):\n",
        "        self.data = init_data\n",
        "        self.next = None\n",
        "        self.back = None\n",
        "\n",
        "    def get_data(self):\n",
        "        return self.data\n",
        "\n",
        "    def get_next(self):\n",
        "        return self.next\n",
        "\n",
        "    def get_back(self):\n",
        "        return self.back\n",
        "\n",
        "    def set_data(self, new_data):\n",
        "        self.data = new_data\n",
        "\n",
        "    def set_next(self, new_next):\n",
        "        self.next = new_next\n",
        "\n",
        "    def set_back(self, new_back):\n",
        "        self.back = new_back"
      ],
      "metadata": {
        "id": "c3GOCH1aHCHK"
      },
      "execution_count": null,
      "outputs": []
    },
    {
      "cell_type": "code",
      "source": [
        "# Now implementing the doubly linked list using the new Node class\n",
        "\n",
        "class Unordered_DList:\n",
        "    def __init__(self):\n",
        "      self.head = None\n",
        "\n",
        "    def add(self, item):\n",
        "      # A prepend to list operation\n",
        "\n",
        "      # If the list is empty\n",
        "      if self.head == None:\n",
        "        self.head = Node_2(item)\n",
        "      else:\n",
        "      # Otherwise\n",
        "        temp = Node_2(item)\n",
        "        temp.set_next(self.head)\n",
        "        self.head.set_back(temp)\n",
        "        self.head = temp\n",
        "\n",
        "    def length(self):\n",
        "      current = self.head\n",
        "      count = 0\n",
        "\n",
        "      while current != None:\n",
        "        count += 1\n",
        "        current = current.get_next()\n",
        "\n",
        "      return count\n",
        "\n",
        "    def search(self, item):\n",
        "      current = self.head\n",
        "      found = False\n",
        "\n",
        "      while current != None and not found:\n",
        "        if current.get_data() == item:\n",
        "          found = True\n",
        "        else:\n",
        "          current = current.get_next()\n",
        "\n",
        "      return found\n",
        "\n",
        "    def remove(self, item):\n",
        "      current = self.head\n",
        "      previous = None\n",
        "      found = False\n",
        "\n",
        "      while not found:\n",
        "        if current.get_data() == item:\n",
        "          found = True\n",
        "        else:\n",
        "          previous = current\n",
        "          current = current.get_next()\n",
        "\n",
        "      if previous == None:\n",
        "        previous = self.head\n",
        "        current = current.get_next()\n",
        "        previous.set_next(None)\n",
        "        current.set_back(None)\n",
        "        self.head = current\n",
        "\n",
        "      else:\n",
        "        # If we are not removing the last node\n",
        "        if current.get_next() != None:\n",
        "          previous.set_next(current.get_next())\n",
        "          next_ptr = current.get_next()\n",
        "          next_ptr.set_back(previous)\n",
        "          current.set_back(None)\n",
        "          current.set_next(None)\n",
        "        else:                 # We are removing the last node\n",
        "          current.set_back(None)\n",
        "          previous.set_next(None)\n",
        "\n",
        "\n",
        "    def __len__(self):\n",
        "      current = self.head\n",
        "      count = 0\n",
        "\n",
        "      while current != None:\n",
        "        count += 1\n",
        "        current = current.get_next()\n",
        "\n",
        "      return count\n",
        "\n",
        "    def __repr__(self):  # Formal string representation of the list\n",
        "      ans_str = ''\n",
        "      # We'll be showing the nodes and the links in the list\n",
        "      curr_ptr = self.head\n",
        "      if curr_ptr == None:\n",
        "        return \"The list is Empty.\"\n",
        "      else:\n",
        "        ans_str += \"Unordered List : \"\n",
        "        while curr_ptr != None:\n",
        "          ans_str += f\"{curr_ptr.get_data()} <->\"\n",
        "          curr_ptr = curr_ptr.get_next()\n",
        "        ans_str += 'None'\n",
        "\n",
        "      return ans_str\n",
        "\n",
        "\n",
        "\n",
        "\n",
        "    def __str__(self):\n",
        "        # We'll just be showing the elements in the list from head to tail\n",
        "        ans_str = ''\n",
        "        curr_ptr = self.head\n",
        "        if curr_ptr == None:\n",
        "          return 'None'\n",
        "        else:\n",
        "          while curr_ptr != None:\n",
        "            ans_str += f'{curr_ptr.get_data()}, '\n",
        "            curr_ptr = curr_ptr.get_next()\n",
        "        return ans_str\n",
        "\n",
        "\n",
        "\n",
        "    def __contains__(self, item):       # Using the search function already implemented\n",
        "        return self.search(item)"
      ],
      "metadata": {
        "id": "sVvSfDQ8H_At"
      },
      "execution_count": 50,
      "outputs": []
    },
    {
      "cell_type": "code",
      "source": [
        "# Testing the implementation\n",
        "\n",
        "\n",
        "ll_d = Unordered_DList()\n",
        "print(\"Before any elements: \", repr(ll_d))\n",
        "# We'll create a list of 10 items\n",
        "items = [random.randrange(1,20) for i in range(10)]\n",
        "\n",
        "for i in range(len(items)):\n",
        "  ll_d.add(items[i])\n",
        "\n",
        "# Printing the list\n",
        "print(\"After: \", repr(ll_d))\n",
        "\n",
        "\n",
        "\n",
        "# Checking if the remove function is working and printing the list upon removing elements\n",
        "print(f\"Before removing {items[4]} the list is:\", repr(ll_d) )\n",
        "ll_d.remove(items[4])\n",
        "print(f\"Before removing {items[4]} the list is:\", repr(ll_d) )\n",
        "\n",
        "print(f\"Before removing {items[0]} the list is:\", repr(ll_d) )\n",
        "ll_d.remove(items[0])\n",
        "print(f\"Before removing {items[0]} the list is:\", repr(ll_d) )\n",
        "\n",
        "# Checking the bool\n",
        "\n",
        "# Checking if the search function is working and\n",
        "print(f\"Number {items[3]} is in the list is:\", ll_d.search(items[3]) )\n",
        "\n",
        "# Checking if the length function is working\n",
        "print(f\"The length of the list is:\", len(ll_d) )"
      ],
      "metadata": {
        "colab": {
          "base_uri": "https://localhost:8080/"
        },
        "id": "YVjWnx6DM2ve",
        "outputId": "55f7e913-42aa-4a43-c252-723e765e0e3a"
      },
      "execution_count": 53,
      "outputs": [
        {
          "output_type": "stream",
          "name": "stdout",
          "text": [
            "Before any elements:  The list is Empty.\n",
            "After:  Unordered List : 17 <->8 <->10 <->7 <->18 <->15 <->2 <->13 <->1 <->9 <->None\n",
            "Before removing 15 the list is: Unordered List : 17 <->8 <->10 <->7 <->18 <->15 <->2 <->13 <->1 <->9 <->None\n",
            "Before removing 15 the list is: Unordered List : 17 <->8 <->10 <->7 <->18 <->2 <->13 <->1 <->9 <->None\n",
            "Before removing 9 the list is: Unordered List : 17 <->8 <->10 <->7 <->18 <->2 <->13 <->1 <->9 <->None\n",
            "Before removing 9 the list is: Unordered List : 17 <->8 <->10 <->7 <->18 <->2 <->13 <->1 <->None\n",
            "Number 2 is in the list is: True\n",
            "The length of the list is: 8\n"
          ]
        }
      ]
    },
    {
      "cell_type": "code",
      "source": [
        "# For Answer for Point-2 we will make a unordered singly linked list with head and tail pointer\n",
        "# This way upon calling the enqueue fucntion we just make a new pointer and join it at the end of our list using the tail, making the operation O(1)\n",
        "# And upon calling dequeue we remove the fist element of the list by making the next element in the list as head - O(1)\n",
        "\n",
        "class Queue_LL:\n",
        "  def __init__(self):\n",
        "      self.head = None\n",
        "      self.tail = None\n",
        "\n",
        "  def enqueue(self, item):\n",
        "    # Checking if the list is empty\n",
        "    if self.head == None:\n",
        "      new_node = Node_2(item)\n",
        "      self.head = new_node\n",
        "      self.tail = new_node\n",
        "    else:\n",
        "    # If the list is not empty, making a new node and adding to the list, making it the tail\n",
        "      new_node = Node(item)\n",
        "      self.tail.set_next(new_node)\n",
        "      self.tail = new_node\n",
        "\n",
        "  def dequeue(self):\n",
        "    # Checking if the list is empty\n",
        "    if self.tail == None:\n",
        "      print(\"Queue is empty\")\n",
        "    else:\n",
        "    # If the list is not empty, moving the head pointer ahead and removing the link\n",
        "      back_ptr = self.tail.get_bac\n",
        "      self.head.set_next(None)\n",
        "      self.head = next_ptr\n",
        "\n",
        "  def __repr__(self):  # Formal string representation of the Queue\n",
        "      ans_str = ''\n",
        "      # We'll be showing the nodes and the links in the list\n",
        "      curr_ptr = self.head\n",
        "      if curr_ptr == None:\n",
        "        return \"The Queue is Empty.\"\n",
        "      else:\n",
        "        ans_str += \"Queue : \"\n",
        "        while curr_ptr != None:\n",
        "          ans_str += f\"{curr_ptr.get_data()} ->\"\n",
        "          curr_ptr = curr_ptr.get_next()\n",
        "        ans_str  = ans_str[:-2]\n",
        "\n",
        "      return ans_str"
      ],
      "metadata": {
        "id": "K97R6H_DO609"
      },
      "execution_count": 60,
      "outputs": []
    },
    {
      "cell_type": "code",
      "source": [
        "# Testing our implementation for Queue, we enqueue to the tail of the list and dequeue from the head\n",
        "\n",
        "q = Queue_LL()\n",
        "\n",
        "# Enqueueing certain elements\n",
        "\n",
        "for i in range(10):\n",
        "  q.enqueue(random.randrange(1,20))\n",
        "  print(repr(q))\n",
        "\n",
        "# Now dequeueing\n",
        "for i in range(11):\n",
        "  q.dequeue()\n",
        "  print(repr(q))"
      ],
      "metadata": {
        "colab": {
          "base_uri": "https://localhost:8080/"
        },
        "id": "GctkvDJVbFTi",
        "outputId": "96cacb17-f366-4e8e-f0c4-4515816e7ce4"
      },
      "execution_count": 61,
      "outputs": [
        {
          "output_type": "stream",
          "name": "stdout",
          "text": [
            "Queue : 10 \n",
            "Queue : 10 ->19 \n",
            "Queue : 10 ->19 ->9 \n",
            "Queue : 10 ->19 ->9 ->7 \n",
            "Queue : 10 ->19 ->9 ->7 ->4 \n",
            "Queue : 10 ->19 ->9 ->7 ->4 ->2 \n",
            "Queue : 10 ->19 ->9 ->7 ->4 ->2 ->16 \n",
            "Queue : 10 ->19 ->9 ->7 ->4 ->2 ->16 ->11 \n",
            "Queue : 10 ->19 ->9 ->7 ->4 ->2 ->16 ->11 ->14 \n",
            "Queue : 10 ->19 ->9 ->7 ->4 ->2 ->16 ->11 ->14 ->5 \n",
            "Queue : 19 ->9 ->7 ->4 ->2 ->16 ->11 ->14 ->5 \n",
            "Queue : 9 ->7 ->4 ->2 ->16 ->11 ->14 ->5 \n",
            "Queue : 7 ->4 ->2 ->16 ->11 ->14 ->5 \n",
            "Queue : 4 ->2 ->16 ->11 ->14 ->5 \n",
            "Queue : 2 ->16 ->11 ->14 ->5 \n",
            "Queue : 16 ->11 ->14 ->5 \n",
            "Queue : 11 ->14 ->5 \n",
            "Queue : 14 ->5 \n",
            "Queue : 5 \n",
            "The Queue is Empty.\n",
            "Queue is empty\n",
            "The Queue is Empty.\n"
          ]
        }
      ]
    }
  ],
  "metadata": {
    "kernelspec": {
      "display_name": "Python 3",
      "language": "python",
      "name": "python3"
    },
    "language_info": {
      "codemirror_mode": {
        "name": "ipython",
        "version": 3
      },
      "file_extension": ".py",
      "mimetype": "text/x-python",
      "name": "python",
      "nbconvert_exporter": "python",
      "pygments_lexer": "ipython3",
      "version": "3.7.3"
    },
    "colab": {
      "provenance": [],
      "include_colab_link": true
    }
  },
  "nbformat": 4,
  "nbformat_minor": 0
}