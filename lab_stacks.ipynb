{
  "cells": [
    {
      "cell_type": "markdown",
      "metadata": {
        "id": "view-in-github",
        "colab_type": "text"
      },
      "source": [
        "<a href=\"https://colab.research.google.com/github/sabhi-29/DSCC162_Labs/blob/main/lab_stacks.ipynb\" target=\"_parent\"><img src=\"https://colab.research.google.com/assets/colab-badge.svg\" alt=\"Open In Colab\"/></a>"
      ]
    },
    {
      "cell_type": "markdown",
      "metadata": {
        "id": "_VIybe7_Hdnh"
      },
      "source": [
        "# DSCC 162 Stack Lab"
      ]
    },
    {
      "cell_type": "markdown",
      "metadata": {
        "id": "FwynNYW4Hdnm"
      },
      "source": [
        "In this lab, you will implement a \"Tower of Hanoi\" game using the Stack class you improved for the workshop."
      ]
    },
    {
      "cell_type": "markdown",
      "metadata": {
        "id": "BQ2tbMFtHdnn"
      },
      "source": [
        "In this game, there are three stacks of disks of different sizes (you will use integers to represent the disks). The first stack will initially contain the integers 3,2, and 1 (1 is at the top). The other two stacks will initally be empty. The player must move all 3 \"disks\" (integers) to the third stack without ever placing a larger \"disk\" (integer) on top of a smaller disk."
      ]
    },
    {
      "cell_type": "markdown",
      "metadata": {
        "id": "MxYzBGDLHdnn"
      },
      "source": [
        "If you don't understand the above game description, please refer to https://en.wikipedia.org/wiki/Tower_of_Hanoi"
      ]
    },
    {
      "cell_type": "markdown",
      "metadata": {
        "id": "zxgEBEVgHdno"
      },
      "source": [
        "### Your program should (at a minimum):\n",
        "\n",
        "- Display the string representation of the stack contents before each move\n",
        "\n",
        "- Allow the player to move the top item of any stack to the top of a different stack (use pop and push)\n",
        "\n",
        "- Display an error and retry if the user attempts to perform an operation that would push a larger int above a smaller int\n",
        "\n",
        "- Display an error and retry if the user attempts to pop from an empty stack\n",
        "\n",
        "- Detect when the player \"wins\" by moving all disks to the third stack\n",
        "\n",
        "### Input validation is optional, except for the errors mentioned above"
      ]
    },
    {
      "cell_type": "markdown",
      "metadata": {
        "id": "flpwTN09Hdno"
      },
      "source": [
        "**Fun fact:** The minimal number of moves required to solve a Tower of Hanoi puzzle is $2^{n} − 1$, where n is the number of disks. With 3 disks, the puzzle can be solved in 7 moves. For 5 disks, the optimal solution is 32 moves."
      ]
    },
    {
      "cell_type": "markdown",
      "metadata": {
        "id": "6LuKt7VlHdnp"
      },
      "source": [
        "**Another fun fact:** This puzzle can be solved with any number of disks (integers) and only 3 towers (stacks)!"
      ]
    },
    {
      "cell_type": "markdown",
      "metadata": {
        "id": "lSZnJP8VHdnp"
      },
      "source": [
        "### Example play\n",
        "```\n",
        "stack 1: [3, 2, 1]\n",
        "stack 2: []\n",
        "stack 3: []\n",
        "Enter source stack (1,2,3): 1\n",
        "Enter destination stack (1,2,3): 2\n",
        "stack 1: [3, 2]\n",
        "stack 2: [1]\n",
        "stack 3: []\n",
        "Enter source stack (1,2,3): 1\n",
        "Enter destination stack (1,2,3): 2\n",
        "Invalid move, cannot put a larger disk on a smaller disk\n",
        "stack 1: [3, 2]\n",
        "stack 2: [1]\n",
        "stack 3: []\n",
        "Enter source stack (1,2,3): 3\n",
        "Enter destination stack (1,2,3): 2\n",
        "Invalid move, the source is empty\n",
        "stack 1: [3, 2]\n",
        "stack 2: [1]\n",
        "stack 3: []\n",
        "Enter source stack (1,2,3):\n",
        "```"
      ]
    },
    {
      "cell_type": "markdown",
      "metadata": {
        "id": "mPCXs4QnHdns"
      },
      "source": [
        "### Example win\n",
        "```\n",
        "stack 1: []\n",
        "stack 2: []\n",
        "stack 3: [3, 2, 1]\n",
        "You did it in 10 moves!\n",
        "```"
      ]
    },
    {
      "cell_type": "markdown",
      "metadata": {
        "id": "CwcG96BnHdnt"
      },
      "source": [
        "# Stack class\n",
        "### Fill in the incomplete methods from the workshop before starting since you will need some of them for the game!"
      ]
    },
    {
      "cell_type": "markdown",
      "source": [
        "\n",
        "\n",
        "---\n",
        "\n"
      ],
      "metadata": {
        "id": "-SNT3CA8K00C"
      }
    },
    {
      "cell_type": "markdown",
      "source": [
        "Completing the Stack class method functions implementation"
      ],
      "metadata": {
        "id": "4lfhTC6jKsW_"
      }
    },
    {
      "cell_type": "code",
      "execution_count": 1,
      "metadata": {
        "id": "TYaE474MHdnt"
      },
      "outputs": [],
      "source": [
        "class Stack:\n",
        "    def __init__(self):\n",
        "        self.items = []\n",
        "\n",
        "    def is_empty(self):\n",
        "        return self.items == []\n",
        "\n",
        "    def push(self, item):\n",
        "      self.items.append(item)\n",
        "\n",
        "    def pop(self):\n",
        "        return self.items.pop()\n",
        "\n",
        "    def peek(self):\n",
        "        return self.items[-1]\n",
        "\n",
        "    def size(self):\n",
        "        return len(self.items)\n",
        "\n",
        "    # The following will be implemented in the workshop\n",
        "    def __len__(self):\n",
        "      return len(self.items)\n",
        "\n",
        "    def __bool__(self):\n",
        "      if len(self.items) == 0:\n",
        "        return False\n",
        "      return True\n",
        "\n",
        "    def __repr__ (self):\n",
        "      if self.items == []:\n",
        "        return \"Stack is empty.\"\n",
        "      else:\n",
        "        return f\"Stack: {self.items}, the top element is {self.items[-1]} and the bottom element is {self.items[0]}\"\n",
        "\n",
        "    def __str__(self):\n",
        "        return f'{self.items}'\n",
        "\n",
        "    def __contains__(self, val):\n",
        "      if val in self.items:\n",
        "        return True\n",
        "      return False"
      ]
    },
    {
      "cell_type": "markdown",
      "source": [
        "Now that the class is made we'll make the program to play the game"
      ],
      "metadata": {
        "id": "vxMQhmUsK4An"
      }
    },
    {
      "cell_type": "code",
      "source": [
        "# We'll be implementing the program assuming that we have only three discs - 1,2,3\n",
        "# that are initially in Stack -1 and Stacks -2 and 3 empty\n",
        "\n",
        "# Making the counter to see how many steps the user takes to finally win\n",
        "counter = 0\n",
        "\n",
        "# Making the towers\n",
        "tower_1 = Stack()\n",
        "tower_1.push(3)\n",
        "tower_1.push(2)\n",
        "tower_1.push(1)\n",
        "\n",
        "tower_2 = Stack()\n",
        "tower_3 = Stack()\n",
        "\n",
        "tower_dict = {1: tower_1, 2: tower_2, 3: tower_3}\n",
        "\n",
        "while True:\n",
        "  print('')\n",
        "\n",
        "  print(f\"Stack 1: {tower_1}\")\n",
        "  print(f\"Stack 2: {tower_2}\")\n",
        "  print(f\"Stack 3: {tower_3}\")\n",
        "\n",
        "  # Checking if the user has transferred all the discs to tower_3 or not\n",
        "\n",
        "  if tower_1.is_empty() and tower_2.is_empty():       # Meaning all the discs are in tower_3 and in correct order\n",
        "    break\n",
        "\n",
        "  source = input(\"Enter source stack (1,2,3): \")\n",
        "  dest = input(\"Enter destination stack (1,2,3): \")\n",
        "\n",
        "  # Validating input from user to be either 1, 2 or 3\n",
        "\n",
        "  if (source not in '123') or (dest not in '123'):\n",
        "    print(\"Enter Valid Source/Destination tower\")\n",
        "    continue\n",
        "\n",
        "  # Now we'll check if the input given by the user is valid or not\n",
        "  # We'll count a step only when the input is valid\n",
        "\n",
        "  source_tower = tower_dict[int(source)]\n",
        "  dest_tower = tower_dict[int(dest)]\n",
        "\n",
        "  # Checking if Source tower is empty or not\n",
        "  if source_tower.is_empty():\n",
        "    print(\"Invalid move, the source is empty\")\n",
        "    continue\n",
        "\n",
        "  # Checking if destination tower is empty or not\n",
        "  if dest_tower.is_empty():\n",
        "    dest_tower.push(source_tower.pop())\n",
        "    counter += 1\n",
        "\n",
        "  else:                                 # Destination Tower is not empty\n",
        "\n",
        "    # Checking if a disk of larger number is present on top\n",
        "    if dest_tower.peek() > source_tower.peek():\n",
        "      counter += 1\n",
        "      dest_tower.push(source_tower.pop())\n",
        "      continue\n",
        "    else:\n",
        "      print(\"Invalid move, cannot put a larger disk on a smaller disk\")\n",
        "      continue\n",
        "\n",
        "print(f\"You did it in {counter} moves!\")"
      ],
      "metadata": {
        "colab": {
          "base_uri": "https://localhost:8080/"
        },
        "id": "FVEUGfQ-K-dC",
        "outputId": "3d41ddaa-0c84-4b24-becb-ec971f07484c"
      },
      "execution_count": 7,
      "outputs": [
        {
          "output_type": "stream",
          "name": "stdout",
          "text": [
            "\n",
            "Stack 1: Stack : [3, 2, 1]\n",
            "Stack 2: Stack : []\n",
            "Stack 3: Stack : []\n",
            "Enter source stack (1,2,3): 1\n",
            "Enter destination stack (1,2,3): 3\n",
            "\n",
            "Stack 1: Stack : [3, 2]\n",
            "Stack 2: Stack : []\n",
            "Stack 3: Stack : [1]\n",
            "Enter source stack (1,2,3): 1\n",
            "Enter destination stack (1,2,3): 2\n",
            "\n",
            "Stack 1: Stack : [3]\n",
            "Stack 2: Stack : [2]\n",
            "Stack 3: Stack : [1]\n",
            "Enter source stack (1,2,3): 3\n",
            "Enter destination stack (1,2,3): 2\n",
            "\n",
            "Stack 1: Stack : [3]\n",
            "Stack 2: Stack : [2, 1]\n",
            "Stack 3: Stack : []\n",
            "Enter source stack (1,2,3): 1\n",
            "Enter destination stack (1,2,3): 3\n",
            "\n",
            "Stack 1: Stack : []\n",
            "Stack 2: Stack : [2, 1]\n",
            "Stack 3: Stack : [3]\n",
            "Enter source stack (1,2,3): 1\n",
            "Enter destination stack (1,2,3): 2\n",
            "Invalid move, the source is empty\n",
            "\n",
            "Stack 1: Stack : []\n",
            "Stack 2: Stack : [2, 1]\n",
            "Stack 3: Stack : [3]\n",
            "Enter source stack (1,2,3): 2\n",
            "Enter destination stack (1,2,3): 1\n",
            "\n",
            "Stack 1: Stack : [1]\n",
            "Stack 2: Stack : [2]\n",
            "Stack 3: Stack : [3]\n",
            "Enter source stack (1,2,3): 2\n",
            "Enter destination stack (1,2,3): 3\n",
            "\n",
            "Stack 1: Stack : [1]\n",
            "Stack 2: Stack : []\n",
            "Stack 3: Stack : [3, 2]\n",
            "Enter source stack (1,2,3): 1\n",
            "Enter destination stack (1,2,3): 3\n",
            "\n",
            "Stack 1: Stack : []\n",
            "Stack 2: Stack : []\n",
            "Stack 3: Stack : [3, 2, 1]\n",
            "You did it in 7 moves!\n"
          ]
        }
      ]
    }
  ],
  "metadata": {
    "kernelspec": {
      "display_name": "Python 3",
      "language": "python",
      "name": "python3"
    },
    "language_info": {
      "codemirror_mode": {
        "name": "ipython",
        "version": 3
      },
      "file_extension": ".py",
      "mimetype": "text/x-python",
      "name": "python",
      "nbconvert_exporter": "python",
      "pygments_lexer": "ipython3",
      "version": "3.7.3"
    },
    "colab": {
      "provenance": [],
      "include_colab_link": true
    }
  },
  "nbformat": 4,
  "nbformat_minor": 0
}